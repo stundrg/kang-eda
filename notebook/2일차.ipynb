{
 "cells": [
  {
   "cell_type": "code",
   "execution_count": 8,
   "id": "3030daa9-d818-4e0f-b1f7-b54f05e4b77a",
   "metadata": {},
   "outputs": [],
   "source": [
    "from president_speech.db.parquet_interpreter import get_parquet_full_path\n",
    "import pandas as pd"
   ]
  },
  {
   "cell_type": "code",
   "execution_count": 14,
   "id": "bb0cb92b-fd54-4eef-8959-34123da4cc0c",
   "metadata": {},
   "outputs": [],
   "source": [
    "keyword = \"자유\"\n",
    "asc = False"
   ]
  },
  {
   "cell_type": "code",
   "execution_count": 15,
   "id": "4619e225-3b03-4e9e-a800-fc6aebcc6247",
   "metadata": {},
   "outputs": [],
   "source": [
    "data_path = get_parquet_full_path()"
   ]
  },
  {
   "cell_type": "code",
   "execution_count": 16,
   "id": "969e7e91-0cc7-424e-a895-8cf1a78a1d64",
   "metadata": {},
   "outputs": [],
   "source": [
    "df = pd.read_parquet(data_path)"
   ]
  },
  {
   "cell_type": "code",
   "execution_count": 17,
   "id": "46b6e218-8787-4c84-a4ff-6f3ef1e8da85",
   "metadata": {},
   "outputs": [],
   "source": [
    "fdf = df[df['speech_text'].str.contains(keyword, case = False)]"
   ]
  },
  {
   "cell_type": "code",
   "execution_count": 18,
   "id": "ecca991a-c51d-45b6-8eb1-4f1d85670aed",
   "metadata": {},
   "outputs": [],
   "source": [
    "gdf = fdf.groupby(\"president\").size().reset_index(name = \"count\")"
   ]
  },
  {
   "cell_type": "code",
   "execution_count": 19,
   "id": "fce34796-be5b-4d94-bf51-08623cbbe7b8",
   "metadata": {},
   "outputs": [],
   "source": [
    "sdf = gdf.sort_values(by='count', ascending = asc).reset_index(drop = True)"
   ]
  },
  {
   "cell_type": "code",
   "execution_count": 20,
   "id": "dd670dfd-f774-4b5b-9d2c-3f78fdf5e1b9",
   "metadata": {},
   "outputs": [
    {
     "data": {
      "text/html": [
       "<div>\n",
       "<style scoped>\n",
       "    .dataframe tbody tr th:only-of-type {\n",
       "        vertical-align: middle;\n",
       "    }\n",
       "\n",
       "    .dataframe tbody tr th {\n",
       "        vertical-align: top;\n",
       "    }\n",
       "\n",
       "    .dataframe thead th {\n",
       "        text-align: right;\n",
       "    }\n",
       "</style>\n",
       "<table border=\"1\" class=\"dataframe\">\n",
       "  <thead>\n",
       "    <tr style=\"text-align: right;\">\n",
       "      <th></th>\n",
       "      <th>president</th>\n",
       "      <th>count</th>\n",
       "    </tr>\n",
       "  </thead>\n",
       "  <tbody>\n",
       "    <tr>\n",
       "      <th>0</th>\n",
       "      <td>박정희</td>\n",
       "      <td>513</td>\n",
       "    </tr>\n",
       "    <tr>\n",
       "      <th>1</th>\n",
       "      <td>이승만</td>\n",
       "      <td>438</td>\n",
       "    </tr>\n",
       "    <tr>\n",
       "      <th>2</th>\n",
       "      <td>노태우</td>\n",
       "      <td>399</td>\n",
       "    </tr>\n",
       "    <tr>\n",
       "      <th>3</th>\n",
       "      <td>김대중</td>\n",
       "      <td>305</td>\n",
       "    </tr>\n",
       "    <tr>\n",
       "      <th>4</th>\n",
       "      <td>문재인</td>\n",
       "      <td>275</td>\n",
       "    </tr>\n",
       "    <tr>\n",
       "      <th>5</th>\n",
       "      <td>김영삼</td>\n",
       "      <td>274</td>\n",
       "    </tr>\n",
       "    <tr>\n",
       "      <th>6</th>\n",
       "      <td>이명박</td>\n",
       "      <td>262</td>\n",
       "    </tr>\n",
       "    <tr>\n",
       "      <th>7</th>\n",
       "      <td>전두환</td>\n",
       "      <td>242</td>\n",
       "    </tr>\n",
       "    <tr>\n",
       "      <th>8</th>\n",
       "      <td>노무현</td>\n",
       "      <td>230</td>\n",
       "    </tr>\n",
       "    <tr>\n",
       "      <th>9</th>\n",
       "      <td>박근혜</td>\n",
       "      <td>111</td>\n",
       "    </tr>\n",
       "    <tr>\n",
       "      <th>10</th>\n",
       "      <td>최규하</td>\n",
       "      <td>14</td>\n",
       "    </tr>\n",
       "    <tr>\n",
       "      <th>11</th>\n",
       "      <td>윤보선</td>\n",
       "      <td>1</td>\n",
       "    </tr>\n",
       "  </tbody>\n",
       "</table>\n",
       "</div>"
      ],
      "text/plain": [
       "   president  count\n",
       "0        박정희    513\n",
       "1        이승만    438\n",
       "2        노태우    399\n",
       "3        김대중    305\n",
       "4        문재인    275\n",
       "5        김영삼    274\n",
       "6        이명박    262\n",
       "7        전두환    242\n",
       "8        노무현    230\n",
       "9        박근혜    111\n",
       "10       최규하     14\n",
       "11       윤보선      1"
      ]
     },
     "execution_count": 20,
     "metadata": {},
     "output_type": "execute_result"
    }
   ],
   "source": [
    "sdf"
   ]
  },
  {
   "cell_type": "code",
   "execution_count": 30,
   "id": "b195efb8-1094-446f-8cf1-a4698a74d300",
   "metadata": {},
   "outputs": [
    {
     "data": {
      "text/plain": [
       "dict"
      ]
     },
     "execution_count": 30,
     "metadata": {},
     "output_type": "execute_result"
    }
   ],
   "source": [
    "type(presidents_speeches)"
   ]
  },
  {
   "cell_type": "code",
   "execution_count": 33,
   "id": "af31ea62-2e1d-485c-9f27-47cd9dfe8cab",
   "metadata": {},
   "outputs": [
    {
     "data": {
      "text/plain": [
       "dict_items"
      ]
     },
     "execution_count": 33,
     "metadata": {},
     "output_type": "execute_result"
    }
   ],
   "source": [
    "type(presidents_speeches.items())"
   ]
  },
  {
   "cell_type": "code",
   "execution_count": 24,
   "id": "04068690-d5a4-47af-b9b2-5985a0a6484c",
   "metadata": {},
   "outputs": [
    {
     "name": "stdout",
     "output_type": "stream",
     "text": [
      "박정희 -> 513\n",
      "이승만 -> 438\n",
      "노태우 -> 399\n"
     ]
    }
   ],
   "source": [
    "for n, i in[('박정희',513),('이승만',438),('노태우',399)]:\n",
    "    print(f\"{n} -> {i}\")"
   ]
  },
  {
   "cell_type": "code",
   "execution_count": 25,
   "id": "af7dbb32-0a7b-4bea-82a6-7ff5489997ca",
   "metadata": {},
   "outputs": [
    {
     "name": "stdout",
     "output_type": "stream",
     "text": [
      "513\n",
      "438\n",
      "399\n"
     ]
    }
   ],
   "source": [
    "for _, n in[('박정희',513),('이승만',438),('노태우',399)]:\n",
    "    print(f\"{n}\")"
   ]
  },
  {
   "cell_type": "code",
   "execution_count": 61,
   "id": "08da4344-ad04-4cd8-b263-b5dbea3a9957",
   "metadata": {},
   "outputs": [],
   "source": [
    "presidents_speeches = {\n",
    "    \"박정희\": 513,\n",
    "    \"이승만\": 438,\n",
    "    \"노태우\": 399,\n",
    "    \"김대중\": 305,\n",
    "    \"문재인\": 275,\n",
    "    \"김영삼\": 274,\n",
    "    \"이명박\": 262,\n",
    "    \"전두환\": 242,\n",
    "    \"노무현\": 230,\n",
    "    \"박근혜\": 111,\n",
    "    \"최규하\": 14,\n",
    "    \"윤보선\": 1\n",
    "}"
   ]
  },
  {
   "cell_type": "code",
   "execution_count": 62,
   "id": "8ca08966-7041-4d8b-b47a-d946aa875ff1",
   "metadata": {},
   "outputs": [
    {
     "name": "stdout",
     "output_type": "stream",
     "text": [
      "박정희 = True\n",
      "이승만 = True\n",
      "노태우 = True\n",
      "김대중 = True\n",
      "문재인 = True\n",
      "김영삼 = True\n",
      "이명박 = True\n",
      "전두환 = True\n",
      "노무현 = True\n",
      "박근혜 = True\n",
      "최규하 = True\n",
      "윤보선 = True\n"
     ]
    }
   ],
   "source": [
    "for p_name, s_count in presidents_speeches.items():\n",
    "    president_row = sdf[sdf[\"president\"] == p_name]\n",
    "    is_ok = president_row.iloc[0][\"count\"] == s_count\n",
    "    print(f\"{p_name} = {is_ok}\")"
   ]
  },
  {
   "cell_type": "code",
   "execution_count": 58,
   "id": "e2bc8f9b-1fde-426b-ac7b-ba9ea0390ddd",
   "metadata": {},
   "outputs": [
    {
     "name": "stdout",
     "output_type": "stream",
     "text": [
      "박정희 -> 513\n",
      "이승만 -> 438\n",
      "노태우 -> 399\n",
      "김대중 -> 305\n",
      "문재인 -> 275\n",
      "김영삼 -> 274\n",
      "이명박 -> 262\n",
      "전두환 -> 242\n",
      "노무현 -> 230\n",
      "박근혜 -> 112\n",
      "최규하 -> 14\n",
      "윤보선 -> 1\n"
     ]
    }
   ],
   "source": [
    "for p_name, s_count in presidents_speeches.items():\n",
    "    president_row = sdf[sdf[\"president\"] == p_name]\n",
    "    print(f\"{p_name} -> {s_count}\" )"
   ]
  },
  {
   "cell_type": "code",
   "execution_count": 54,
   "id": "742c98d5-b8bd-40b8-874b-ca3acea0c5d5",
   "metadata": {},
   "outputs": [
    {
     "name": "stdout",
     "output_type": "stream",
     "text": [
      "dict_items([('박정희', 513), ('이승만', 438), ('노태우', 399), ('김대중', 305), ('문재인', 275), ('김영삼', 274), ('이명박', 262), ('전두환', 242), ('노무현', 230), ('박근혜', 112), ('최규하', 14), ('윤보선', 1)])\n"
     ]
    }
   ],
   "source": [
    "print(presidents_speeches.items())"
   ]
  },
  {
   "cell_type": "code",
   "execution_count": 68,
   "id": "4b479016-2f1f-40f8-9022-1bde1c0a2b66",
   "metadata": {},
   "outputs": [
    {
     "name": "stdout",
     "output_type": "stream",
     "text": [
      "0 - 박정희 = True\n",
      "1 - 이승만 = True\n",
      "2 - 노태우 = True\n",
      "3 - 김대중 = True\n",
      "4 - 문재인 = True\n",
      "5 - 김영삼 = True\n",
      "6 - 이명박 = True\n",
      "7 - 전두환 = True\n",
      "8 - 노무현 = True\n",
      "9 - 박근혜 = True\n",
      "10 - 최규하 = True\n",
      "11 - 윤보선 = True\n"
     ]
    }
   ],
   "source": [
    "for i,(p_name, s_count) in enumerate (presidents_speeches.items()):\n",
    "    president_row = sdf[sdf[\"president\"] == p_name]\n",
    "    is_ok = president_row.iloc[0][\"count\"] == s_count\n",
    "    print(f\"{i} - {p_name} = {president_row.iloc[0]['count'] == s_count}\")"
   ]
  },
  {
   "cell_type": "code",
   "execution_count": null,
   "id": "67f37b99-f6e8-481c-aaa5-d169be1e8697",
   "metadata": {},
   "outputs": [],
   "source": []
  }
 ],
 "metadata": {
  "kernelspec": {
   "display_name": "Python 3 (ipykernel)",
   "language": "python",
   "name": "python3"
  },
  "language_info": {
   "codemirror_mode": {
    "name": "ipython",
    "version": 3
   },
   "file_extension": ".py",
   "mimetype": "text/x-python",
   "name": "python",
   "nbconvert_exporter": "python",
   "pygments_lexer": "ipython3",
   "version": "3.10.12"
  }
 },
 "nbformat": 4,
 "nbformat_minor": 5
}
