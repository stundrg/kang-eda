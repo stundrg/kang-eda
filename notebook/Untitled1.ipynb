{
 "cells": [
  {
   "cell_type": "code",
   "execution_count": 1,
   "id": "3030daa9-d818-4e0f-b1f7-b54f05e4b77a",
   "metadata": {},
   "outputs": [],
   "source": [
    "from president_speech.db.parquet_interpreter import read_parquet, get_parquet_full_path"
   ]
  },
  {
   "cell_type": "code",
   "execution_count": 2,
   "id": "bb0cb92b-fd54-4eef-8959-34123da4cc0c",
   "metadata": {},
   "outputs": [],
   "source": [
    "df = read_parquet().head()"
   ]
  },
  {
   "cell_type": "code",
   "execution_count": 3,
   "id": "4619e225-3b03-4e9e-a800-fc6aebcc6247",
   "metadata": {},
   "outputs": [
    {
     "data": {
      "text/plain": [
       "'/home/wsl/code/kang-eda/.venv/lib/python3.10/site-packages/president_speech/db/parquet/president_speech_ko.parquet'"
      ]
     },
     "execution_count": 3,
     "metadata": {},
     "output_type": "execute_result"
    }
   ],
   "source": [
    "get_parquet_full_path()"
   ]
  },
  {
   "cell_type": "code",
   "execution_count": null,
   "id": "969e7e91-0cc7-424e-a895-8cf1a78a1d64",
   "metadata": {},
   "outputs": [],
   "source": []
  }
 ],
 "metadata": {
  "kernelspec": {
   "display_name": "Python 3 (ipykernel)",
   "language": "python",
   "name": "python3"
  },
  "language_info": {
   "codemirror_mode": {
    "name": "ipython",
    "version": 3
   },
   "file_extension": ".py",
   "mimetype": "text/x-python",
   "name": "python",
   "nbconvert_exporter": "python",
   "pygments_lexer": "ipython3",
   "version": "3.10.12"
  }
 },
 "nbformat": 4,
 "nbformat_minor": 5
}
