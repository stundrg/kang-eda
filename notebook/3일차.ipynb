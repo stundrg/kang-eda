{
 "cells": [
  {
   "cell_type": "code",
   "execution_count": 1,
   "id": "57cf7203-cda7-4147-b760-87fa3c41283a",
   "metadata": {},
   "outputs": [],
   "source": [
    "from president_speech.db.parquet_interpreter import read_parquet\n",
    "import pandas as pd"
   ]
  },
  {
   "cell_type": "code",
   "execution_count": 2,
   "id": "f557a153-9bff-4904-acc3-cfe32df14ef2",
   "metadata": {},
   "outputs": [
    {
     "data": {
      "text/plain": [
       "division_number     int64\n",
       "president          object\n",
       "title              object\n",
       "date               object\n",
       "location           object\n",
       "kind               object\n",
       "speech_text        object\n",
       "dtype: object"
      ]
     },
     "execution_count": 2,
     "metadata": {},
     "output_type": "execute_result"
    }
   ],
   "source": [
    "df = read_parquet()\n",
    "df.dtypes"
   ]
  },
  {
   "cell_type": "code",
   "execution_count": 3,
   "id": "37f284ca-e9c5-445c-baff-cd74974ab5fd",
   "metadata": {},
   "outputs": [
    {
     "data": {
      "text/plain": [
       "array(['취임사', '기념사', '신년사', '성명/담화문', '국회연설', '환영사', '기타', '만찬사', '축사',\n",
       "       '회의'], dtype=object)"
      ]
     },
     "execution_count": 3,
     "metadata": {},
     "output_type": "execute_result"
    }
   ],
   "source": [
    "df['kind'].unique()"
   ]
  },
  {
   "cell_type": "code",
   "execution_count": null,
   "id": "8f5d45d5-77d2-4501-8728-c906e19c15b4",
   "metadata": {},
   "outputs": [],
   "source": []
  }
 ],
 "metadata": {
  "kernelspec": {
   "display_name": "Python 3 (ipykernel)",
   "language": "python",
   "name": "python3"
  },
  "language_info": {
   "codemirror_mode": {
    "name": "ipython",
    "version": 3
   },
   "file_extension": ".py",
   "mimetype": "text/x-python",
   "name": "python",
   "nbconvert_exporter": "python",
   "pygments_lexer": "ipython3",
   "version": "3.10.12"
  }
 },
 "nbformat": 4,
 "nbformat_minor": 5
}
