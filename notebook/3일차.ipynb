{
 "cells": [
  {
   "cell_type": "code",
   "execution_count": 1,
   "id": "57cf7203-cda7-4147-b760-87fa3c41283a",
   "metadata": {},
   "outputs": [],
   "source": [
    "from president_speech.db.parquet_interpreter import read_parquet\n",
    "import pandas as pd"
   ]
  },
  {
   "cell_type": "code",
   "execution_count": 2,
   "id": "f557a153-9bff-4904-acc3-cfe32df14ef2",
   "metadata": {},
   "outputs": [
    {
     "data": {
      "text/plain": [
       "division_number     int64\n",
       "president          object\n",
       "title              object\n",
       "date               object\n",
       "location           object\n",
       "kind               object\n",
       "speech_text        object\n",
       "dtype: object"
      ]
     },
     "execution_count": 2,
     "metadata": {},
     "output_type": "execute_result"
    }
   ],
   "source": [
    "df = read_parquet()\n",
    "df.dtypes"
   ]
  },
  {
   "cell_type": "code",
   "execution_count": 3,
   "id": "37f284ca-e9c5-445c-baff-cd74974ab5fd",
   "metadata": {},
   "outputs": [
    {
     "data": {
      "text/plain": [
       "array(['취임사', '기념사', '신년사', '성명/담화문', '국회연설', '환영사', '기타', '만찬사', '축사',\n",
       "       '회의'], dtype=object)"
      ]
     },
     "execution_count": 3,
     "metadata": {},
     "output_type": "execute_result"
    }
   ],
   "source": [
    "df['kind'].unique()"
   ]
  },
  {
   "cell_type": "code",
   "execution_count": 4,
   "id": "8f5d45d5-77d2-4501-8728-c906e19c15b4",
   "metadata": {},
   "outputs": [
    {
     "data": {
      "text/plain": [
       "5368    1963.12.17\n",
       "Name: date, dtype: object"
      ]
     },
     "execution_count": 4,
     "metadata": {},
     "output_type": "execute_result"
    }
   ],
   "source": [
    "df['date'].head(1)"
   ]
  },
  {
   "cell_type": "code",
   "execution_count": 6,
   "id": "53956559-5612-4391-ad73-442ac5a77467",
   "metadata": {
    "jp-MarkdownHeadingCollapsed": true
   },
   "outputs": [],
   "source": [
    "# 날짜를 datetime 형식으로 변환\n",
    "# df['date'] = pd.to_datetime(df['date']) #  ISO 8601 형식(예: YYYY-MM-DD) 일때\n",
    "#df['date'] = pd.to_datetime(df['date'], format='%Y.%m.%d') ValueError: time data \"1964\" doesn't match format \"%Y.%m.%d\", at position 3. You might want to try:"
   ]
  },
  {
   "cell_type": "code",
   "execution_count": null,
   "id": "69660edd-bd91-448e-a389-be203645d92a",
   "metadata": {},
   "outputs": [],
   "source": []
  },
  {
   "cell_type": "code",
   "execution_count": 7,
   "id": "7c0b962f-e277-4fee-a523-c9e360bb9bf8",
   "metadata": {},
   "outputs": [
    {
     "name": "stdout",
     "output_type": "stream",
     "text": [
      "1964\n",
      "1981.12\n",
      "1982.02\n",
      "1982.05\n",
      "1993.03\n",
      "1993.04\n",
      "1993.06\n",
      "1950\n",
      "1951\n",
      "1952\n",
      "1953\n",
      "1954\n",
      "1955\n",
      "1956\n",
      "1957\n",
      "1958\n",
      "1948.11\n",
      "1948.12\n",
      "1948\n",
      "1949.07\n",
      "1950.02\n",
      "1950.03\n",
      "1950.04\n",
      "1950.05\n",
      "1952.01\n",
      "1955.07\n",
      "1955.10\n",
      "1955.11\n",
      "1956.01\n",
      "1956.02\n",
      "1956.03\n",
      "1956.05\n",
      "1956.12\n",
      "1957.02\n",
      "1992.02\n",
      "1992.03\n",
      "1992.04\n",
      "1992.06\n",
      "\n"
     ]
    }
   ],
   "source": [
    "# 필터 조건: '.'이 없거나 길이가 10이 아닌 경우\n",
    "invalid_dates = df[~df['date'].str.contains(r'\\.', na=False) | (df['date'].str.len() != 10)]\n",
    "\n",
    "for d in invalid_dates['date'].unique():\n",
    "    print(d)"
   ]
  },
  {
   "cell_type": "markdown",
   "id": "a3ccf4e5-3b35-4b7b-a102-8229e392cf85",
   "metadata": {},
   "source": [
    "https://github.com/ppabam/eda-bam/blob/8740de41c0a80ae64325e0f8db6f4730e7306d9c/notebook/chart.ipynb"
   ]
  }
 ],
 "metadata": {
  "kernelspec": {
   "display_name": "Python 3 (ipykernel)",
   "language": "python",
   "name": "python3"
  },
  "language_info": {
   "codemirror_mode": {
    "name": "ipython",
    "version": 3
   },
   "file_extension": ".py",
   "mimetype": "text/x-python",
   "name": "python",
   "nbconvert_exporter": "python",
   "pygments_lexer": "ipython3",
   "version": "3.10.12"
  }
 },
 "nbformat": 4,
 "nbformat_minor": 5
}
